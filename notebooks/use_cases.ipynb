{
 "cells": [
  {
   "cell_type": "code",
   "execution_count": 2,
   "id": "0620e728",
   "metadata": {},
   "outputs": [],
   "source": [
    "import os\n",
    "from openai import OpenAI\n",
    "import pprint\n",
    "\n",
    "openai_client = OpenAI(\n",
    "    api_key=os.getenv(\"OPENAI_API_KEY\"),\n",
    ")"
   ]
  },
  {
   "cell_type": "code",
   "execution_count": 3,
   "id": "1758d0dd",
   "metadata": {},
   "outputs": [
    {
     "data": {
      "application/vnd.jupyter.widget-view+json": {
       "model_id": "4cf9d3968aa644dd9189bd59e577d8f9",
       "version_major": 2,
       "version_minor": 0
      },
      "text/plain": [
       "Downloading readme:   0%|          | 0.00/502 [00:00<?, ?B/s]"
      ]
     },
     "metadata": {},
     "output_type": "display_data"
    },
    {
     "data": {
      "application/vnd.jupyter.widget-view+json": {
       "model_id": "211675c7116d43a0b013cf4c456a2eb1",
       "version_major": 2,
       "version_minor": 0
      },
      "text/plain": [
       "Downloading data:   0%|          | 0.00/13.3M [00:00<?, ?B/s]"
      ]
     },
     "metadata": {},
     "output_type": "display_data"
    },
    {
     "data": {
      "application/vnd.jupyter.widget-view+json": {
       "model_id": "7ff765d4c01b4d74bc095b139ea87ba7",
       "version_major": 2,
       "version_minor": 0
      },
      "text/plain": [
       "Downloading data:   0%|          | 0.00/81.6k [00:00<?, ?B/s]"
      ]
     },
     "metadata": {},
     "output_type": "display_data"
    },
    {
     "data": {
      "application/vnd.jupyter.widget-view+json": {
       "model_id": "f3ad4ed0dc5d4162a8feaeb9e032710b",
       "version_major": 2,
       "version_minor": 0
      },
      "text/plain": [
       "Downloading data:   0%|          | 0.00/81.0k [00:00<?, ?B/s]"
      ]
     },
     "metadata": {},
     "output_type": "display_data"
    },
    {
     "data": {
      "application/vnd.jupyter.widget-view+json": {
       "model_id": "ce7f5e8859954f3cad70b8a29bc1ef30",
       "version_major": 2,
       "version_minor": 0
      },
      "text/plain": [
       "Generating train split:   0%|          | 0/32780 [00:00<?, ? examples/s]"
      ]
     },
     "metadata": {},
     "output_type": "display_data"
    },
    {
     "data": {
      "application/vnd.jupyter.widget-view+json": {
       "model_id": "be07ea142af24486a82891f33092255f",
       "version_major": 2,
       "version_minor": 0
      },
      "text/plain": [
       "Generating validation split:   0%|          | 0/200 [00:00<?, ? examples/s]"
      ]
     },
     "metadata": {},
     "output_type": "display_data"
    },
    {
     "data": {
      "application/vnd.jupyter.widget-view+json": {
       "model_id": "d068b7bee4ef404b84b44ae2c14438b0",
       "version_major": 2,
       "version_minor": 0
      },
      "text/plain": [
       "Generating test split:   0%|          | 0/200 [00:00<?, ? examples/s]"
      ]
     },
     "metadata": {},
     "output_type": "display_data"
    }
   ],
   "source": [
    "from datasets import load_dataset\n",
    "\n",
    "wine_dataset = load_dataset(\"alfredodeza/wine-ratings\")"
   ]
  },
  {
   "cell_type": "code",
   "execution_count": 4,
   "id": "37760399",
   "metadata": {},
   "outputs": [
    {
     "data": {
      "text/plain": [
       "DatasetDict({\n",
       "    train: Dataset({\n",
       "        features: ['name', 'region', 'variety', 'rating', 'notes'],\n",
       "        num_rows: 32780\n",
       "    })\n",
       "    validation: Dataset({\n",
       "        features: ['name', 'region', 'variety', 'rating', 'notes'],\n",
       "        num_rows: 200\n",
       "    })\n",
       "    test: Dataset({\n",
       "        features: ['name', 'region', 'variety', 'rating', 'notes'],\n",
       "        num_rows: 200\n",
       "    })\n",
       "})"
      ]
     },
     "execution_count": 4,
     "metadata": {},
     "output_type": "execute_result"
    }
   ],
   "source": [
    "wine_dataset"
   ]
  },
  {
   "cell_type": "code",
   "execution_count": 5,
   "id": "a56f0d17",
   "metadata": {},
   "outputs": [
    {
     "name": "stdout",
     "output_type": "stream",
     "text": [
      "Jim Barry Lodge Hill Shiraz 2008 is from Clare Valley, South Australia, Australia and is a Red Wine. This wine has deep, dark red/black hues, lifted aromas of mulberry, raspberry, coffee and kirsch. The bramble, chocolate, methol and rosemary fl avours that fi ll the mouth are present in abundance, with delicate, sensual and ripe tannins playing a structural role. This wine is ideally suited to good food, good friends and good conversation.\n",
      "\n",
      "Argyle Reserve Pinot Noir 2005 is from Willamette Valley, Oregon and is a Red Wine. This Pinot Noir has a seductively rich, super dark ruby-violet color. Aromas leap out of the glass with black cherry, black cherry leather and cedar, along with a ripping portion of cinnamon spice. The wine finishes with a hint of violet flower patch. Use of new oak was delicate, so the aromas are authentic Pinot Noir.  \n",
      "\n",
      "Cambria Katherine's Vineyard Chardonnay 1997 is from Central Coast, California and is a White Wine. The 1997 Katherines Vineyard Chardonnay is a rich, mouthfilling wine, with lush pineapple, mango and pear aromas, along with butter and caramel notes.  This wine is well-structured, with a backbone of crisp acid, and a long, lasting finish.\n",
      "\n",
      "Domaine Serene Evenstad Reserve Chardonnay 2015 is from Willamette Valley, Oregon and is a White Wine. The art of blending is a hallmark of the Domaine Serene winemaking program and one of the most important steps in making wines of distinct and unique character. Sourcing only the finest Dijon clone grapes from the winery's premier Chardonnay vineyards in the Dundee Hills, the Evenstad Reserve Chardonnay is meticulously blended for balance, personality and consistently superior quality from vintage to vintage.\n",
      "\n",
      "Barnard Griffin Chardonnay 2012 is from Columbia Valley, Washington and is a White Wine. A burst of ripe fruit flavors greet the palate: infused orange and apple with hints of ginger, honey and wet stone. Rich vanilla aromatics complete this delicious, crisp Chardonnay. A perfect wine for get-togethers with friends. \n",
      "\n"
     ]
    }
   ],
   "source": [
    "def convert_wine_to_string(wine):\n",
    "    description = f'{wine[\"name\"]} is from {wine[\"region\"]} and is a {wine[\"variety\"]}. {wine[\"notes\"]}'\n",
    "    \n",
    "    return description\n",
    "\n",
    "for wine in list(wine_dataset['test'])[:5]:\n",
    "    print(convert_wine_to_string(wine))\n",
    "    print()"
   ]
  },
  {
   "cell_type": "code",
   "execution_count": null,
   "id": "376455a5",
   "metadata": {},
   "outputs": [],
   "source": []
  },
  {
   "cell_type": "code",
   "execution_count": null,
   "id": "f7455ea2",
   "metadata": {},
   "outputs": [],
   "source": []
  },
  {
   "cell_type": "code",
   "execution_count": 6,
   "id": "2efb17bb",
   "metadata": {},
   "outputs": [],
   "source": [
    "import random\n",
    "\n",
    "wines = random.sample(list(wine_dataset['test']), 5)"
   ]
  },
  {
   "cell_type": "code",
   "execution_count": null,
   "id": "ff9d25bf",
   "metadata": {},
   "outputs": [],
   "source": []
  },
  {
   "cell_type": "code",
   "execution_count": 7,
   "id": "fd97f1f2",
   "metadata": {},
   "outputs": [],
   "source": [
    "def pretty_print(data, indent=0):\n",
    "    pp = pprint.PrettyPrinter(indent=indent)\n",
    "    for item in data:\n",
    "        for key, value in item.items():\n",
    "            print(f\"{key}: {value}\")\n",
    "        print()\n",
    "    print()\n"
   ]
  },
  {
   "cell_type": "code",
   "execution_count": 8,
   "id": "65f8cf92",
   "metadata": {},
   "outputs": [],
   "source": [
    "# Define a dictionary for prices\n",
    "\n",
    "prices = {  # https://openai.com/pricing\n",
    "    'gpt-3.5-turbo': {\n",
    "        'input': 0.0005 / 1000,  # per token\n",
    "        'output': 0.0015 / 1000  # per token\n",
    "    },\n",
    "    'gpt-4': {\n",
    "        'input': 0.03 / 1000,  # per token\n",
    "        'output': 0.06 / 1000  # per token\n",
    "    }\n",
    "}\n",
    "\n",
    "\n",
    "def generate_openai_response(prompt, model='gpt-4', **kwargs):\n",
    "    pretty_print(prompt)\n",
    "    chat_completion = openai_client.chat.completions.create(\n",
    "        messages=prompt,\n",
    "        model=model,\n",
    "        **kwargs\n",
    "    )\n",
    "\n",
    "    # Calculate the cost\n",
    "    input_tokens = chat_completion.usage.prompt_tokens\n",
    "    output_tokens = chat_completion.usage.completion_tokens\n",
    "    input_cost = input_tokens * prices[model]['input']\n",
    "    output_cost = output_tokens * prices[model]['output']\n",
    "    total_cost = input_cost + output_cost\n",
    "    return chat_completion, {'input_cost': input_cost, 'output_cost': output_cost, 'total_cost': total_cost}"
   ]
  },
  {
   "cell_type": "code",
   "execution_count": 9,
   "id": "4e81bd52",
   "metadata": {},
   "outputs": [],
   "source": [
    "user_description = 'This client hates red wines'"
   ]
  },
  {
   "cell_type": "code",
   "execution_count": 10,
   "id": "1dc3a94c",
   "metadata": {},
   "outputs": [
    {
     "name": "stdout",
     "output_type": "stream",
     "text": [
      "role: system\n",
      "content: You are a wine bot that helps clients understand what kind of wine they want. Given a list of wines and a description of the client. Tell me what wines they want by giving me the only the names of the wines. Include a reason preceding each pick to explain to the user why they might like it.\n",
      "\n",
      "role: user\n",
      "content: User: This client hates red wines\n",
      "Wines:\n",
      "Argiolas S'elegas 2005 is from Sardinia, Italy and is a White Wine. Pale yellow color, with a fruity bouquet. Full bodied and rich with a lingering aftertaste that is characteristic of Nuragus. Made from 100% Nuragus. \n",
      "---\n",
      "La Mozza Maremma Toscana Aragone 2010 is from Tuscany, Italy and is a Red Wine. Intense ruby red with reflections of violet. The Sangiovese and Alicante contribute to the structure and complexity of the blend with spice and licorice flavors. The Syrah and Carignan contribute a fresh dark berry component. The wine hints at a Southern Rhone style with black olive aromas, and ripe fruit.\n",
      "---\n",
      "Chateau Lafleur 1999 is from Pomerol, Bordeaux, France and is a Red Wine. The chateaux of Pomerol were never officially classified but Chateau Lafleur is one of the top quality properties in Pomerol. It is perhaps the only chateau in Pomerol that can rival Chateau Petrus. \n",
      "---\n",
      "Dal Forno Romano Valpolicella Superiore 2006 is from Valpolicella, Veneto, Italy and is a Red Wine. A big, burly red, with lots of charred oak and smoky bacon character coloring the rich, ripe crushed berry fruit. Hints of flowers and black cardamom add to the complexity. Full-bodied, with well-poised, velvety tannins that capture the flavors and drive them through the long finish. \n",
      "---\n",
      "Cousino Macul Antiguas Reservas Cabernet Sauvignon 2000 is from Chile and is a Red Wine. Comparisons have been made between this Cabernet and the great, long-lived wines of Bordeaux, particularly Chateau Margaux, but this wine is a fraction of the price. Possessing exceptional ageing potential like a Bordeaux, it has complex layers of dried cherry, red currant, smoke and cedar and silky, smooth tannins. A terrific food wine – try with grilled or smoked meats.  \n",
      "\n",
      "\n",
      "Given that the client dislikes red wines, they would probably enjoy:\n",
      "\n",
      "Argiolas S'elegas 2005 - This is a white wine from Sardinia, Italy. The client might be attracted to its pale yellow color, fruity bouquet, and full-bodied richness. It has a lingering aftertaste that is characteristic of Nuragus grapes, delighting those who appreciate complex flavors in a white wine.\n"
     ]
    }
   ],
   "source": [
    "newline = '\\n---\\n'\n",
    "res, price = generate_openai_response(\n",
    "[\n",
    "    {'role': 'system', 'content': 'You are a wine bot that helps clients understand what kind of wine they want. Given a list of wines and a description of the client. Tell me what wines they want by giving me the only the names of the wines. Include a reason preceding each pick to explain to the user why they might like it.'}, \n",
    "    {'role': 'user', 'content': f'User: {user_description}\\nWines:\\n{f\"{newline}\".join([convert_wine_to_string(w) for w in wines])}'}\n",
    "])\n",
    "    \n",
    "print(res.choices[0].message.content)"
   ]
  },
  {
   "cell_type": "code",
   "execution_count": 11,
   "id": "8506a336",
   "metadata": {},
   "outputs": [
    {
     "data": {
      "text/plain": [
       "{'input_cost': 0.015569999999999999,\n",
       " 'output_cost': 0.00492,\n",
       " 'total_cost': 0.020489999999999998}"
      ]
     },
     "execution_count": 11,
     "metadata": {},
     "output_type": "execute_result"
    }
   ],
   "source": [
    "price"
   ]
  },
  {
   "cell_type": "code",
   "execution_count": 14,
   "id": "cdad0f5a",
   "metadata": {
    "scrolled": true
   },
   "outputs": [
    {
     "name": "stdout",
     "output_type": "stream",
     "text": [
      "role: system\n",
      "content: You are a wine bot that helps clients understand what kind of wine they want. Given a list of wines and a description of the client. Tell me what wines they want by giving me the only the names of the wines. Include a reason preceding each pick to explain to the user why they might like it.\n",
      "\n",
      "role: user\n",
      "content: User: This client hates red wines\n",
      "Wines:\n",
      "Argiolas S'elegas 2005 is from Sardinia, Italy and is a White Wine. Pale yellow color, with a fruity bouquet. Full bodied and rich with a lingering aftertaste that is characteristic of Nuragus. Made from 100% Nuragus. \n",
      "---\n",
      "La Mozza Maremma Toscana Aragone 2010 is from Tuscany, Italy and is a Red Wine. Intense ruby red with reflections of violet. The Sangiovese and Alicante contribute to the structure and complexity of the blend with spice and licorice flavors. The Syrah and Carignan contribute a fresh dark berry component. The wine hints at a Southern Rhone style with black olive aromas, and ripe fruit.\n",
      "---\n",
      "Chateau Lafleur 1999 is from Pomerol, Bordeaux, France and is a Red Wine. The chateaux of Pomerol were never officially classified but Chateau Lafleur is one of the top quality properties in Pomerol. It is perhaps the only chateau in Pomerol that can rival Chateau Petrus. \n",
      "---\n",
      "Dal Forno Romano Valpolicella Superiore 2006 is from Valpolicella, Veneto, Italy and is a Red Wine. A big, burly red, with lots of charred oak and smoky bacon character coloring the rich, ripe crushed berry fruit. Hints of flowers and black cardamom add to the complexity. Full-bodied, with well-poised, velvety tannins that capture the flavors and drive them through the long finish. \n",
      "---\n",
      "Cousino Macul Antiguas Reservas Cabernet Sauvignon 2000 is from Chile and is a Red Wine. Comparisons have been made between this Cabernet and the great, long-lived wines of Bordeaux, particularly Chateau Margaux, but this wine is a fraction of the price. Possessing exceptional ageing potential like a Bordeaux, it has complex layers of dried cherry, red currant, smoke and cedar and silky, smooth tannins. A terrific food wine – try with grilled or smoked meats.  \n",
      "\n",
      "\n"
     ]
    }
   ],
   "source": [
    "res, price = generate_openai_response(\n",
    "[\n",
    "    {'role': 'system', 'content': 'You are a wine bot that helps clients understand what kind of wine they want. Given a list of wines and a description of the client. Tell me what wines they want by giving me the only the names of the wines. Include a reason preceding each pick to explain to the user why they might like it.'}, \n",
    "    {'role': 'user', 'content': f'User: {user_description}\\nWines:\\n{f\"{newline}\".join([convert_wine_to_string(w) for w in wines])}'}\n",
    "],\n",
    "model='gpt-3.5-turbo'\n",
    ")"
   ]
  },
  {
   "cell_type": "code",
   "execution_count": 16,
   "id": "9c540740-d57e-4633-bbcb-f56513af91c2",
   "metadata": {},
   "outputs": [
    {
     "data": {
      "text/plain": [
       "{'input_cost': 0.00025949999999999997,\n",
       " 'output_cost': 0.00016800000000000002,\n",
       " 'total_cost': 0.0004275}"
      ]
     },
     "execution_count": 16,
     "metadata": {},
     "output_type": "execute_result"
    }
   ],
   "source": [
    "price"
   ]
  },
  {
   "cell_type": "code",
   "execution_count": null,
   "id": "27826dbc-bba7-4237-861f-d9f0de09c1b6",
   "metadata": {},
   "outputs": [],
   "source": []
  }
 ],
 "metadata": {
  "kernelspec": {
   "display_name": "Python 3 (ipykernel)",
   "language": "python",
   "name": "python3"
  },
  "language_info": {
   "codemirror_mode": {
    "name": "ipython",
    "version": 3
   },
   "file_extension": ".py",
   "mimetype": "text/x-python",
   "name": "python",
   "nbconvert_exporter": "python",
   "pygments_lexer": "ipython3",
   "version": "3.11.5"
  }
 },
 "nbformat": 4,
 "nbformat_minor": 5
}
