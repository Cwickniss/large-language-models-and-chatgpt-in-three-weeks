{
 "cells": [
  {
   "cell_type": "code",
   "execution_count": 24,
   "id": "0620e728",
   "metadata": {},
   "outputs": [],
   "source": [
    "import os\n",
    "import openai\n",
    "import pprint\n",
    "openai.api_key = os.getenv(\"OPENAI_API_KEY\")\n"
   ]
  },
  {
   "cell_type": "code",
   "execution_count": 35,
   "id": "4a61f476",
   "metadata": {},
   "outputs": [],
   "source": []
  },
  {
   "cell_type": "code",
   "execution_count": 25,
   "id": "1758d0dd",
   "metadata": {},
   "outputs": [
    {
     "name": "stderr",
     "output_type": "stream",
     "text": [
      "Found cached dataset csv (/Users/sinanozdemir/.cache/huggingface/datasets/alfredodeza___csv/alfredodeza--wine-ratings-7b131fffc73ec9d3/0.0.0/6954658bab30a358235fa864b05cf819af0e179325c740e4bc853bcc7ec513e1)\n"
     ]
    },
    {
     "data": {
      "application/vnd.jupyter.widget-view+json": {
       "model_id": "54a19dfbcce843db9cf4eff4693948d6",
       "version_major": 2,
       "version_minor": 0
      },
      "text/plain": [
       "  0%|          | 0/3 [00:00<?, ?it/s]"
      ]
     },
     "metadata": {},
     "output_type": "display_data"
    }
   ],
   "source": [
    "from datasets import load_dataset\n",
    "\n",
    "wine_dataset = load_dataset(\"alfredodeza/wine-ratings\")"
   ]
  },
  {
   "cell_type": "code",
   "execution_count": 26,
   "id": "37760399",
   "metadata": {},
   "outputs": [
    {
     "data": {
      "text/plain": [
       "DatasetDict({\n",
       "    train: Dataset({\n",
       "        features: ['name', 'region', 'variety', 'rating', 'notes'],\n",
       "        num_rows: 32780\n",
       "    })\n",
       "    validation: Dataset({\n",
       "        features: ['name', 'region', 'variety', 'rating', 'notes'],\n",
       "        num_rows: 200\n",
       "    })\n",
       "    test: Dataset({\n",
       "        features: ['name', 'region', 'variety', 'rating', 'notes'],\n",
       "        num_rows: 200\n",
       "    })\n",
       "})"
      ]
     },
     "execution_count": 26,
     "metadata": {},
     "output_type": "execute_result"
    }
   ],
   "source": [
    "wine_dataset"
   ]
  },
  {
   "cell_type": "code",
   "execution_count": 27,
   "id": "a56f0d17",
   "metadata": {},
   "outputs": [
    {
     "name": "stdout",
     "output_type": "stream",
     "text": [
      "Jim Barry Lodge Hill Shiraz 2008 is from Clare Valley, South Australia, Australia and is a Red Wine. This wine has deep, dark red/black hues, lifted aromas of mulberry, raspberry, coffee and kirsch. The bramble, chocolate, methol and rosemary fl avours that fi ll the mouth are present in abundance, with delicate, sensual and ripe tannins playing a structural role. This wine is ideally suited to good food, good friends and good conversation.\n",
      "\n",
      "Argyle Reserve Pinot Noir 2005 is from Willamette Valley, Oregon and is a Red Wine. This Pinot Noir has a seductively rich, super dark ruby-violet color. Aromas leap out of the glass with black cherry, black cherry leather and cedar, along with a ripping portion of cinnamon spice. The wine finishes with a hint of violet flower patch. Use of new oak was delicate, so the aromas are authentic Pinot Noir.  \n",
      "\n",
      "Cambria Katherine's Vineyard Chardonnay 1997 is from Central Coast, California and is a White Wine. The 1997 Katherines Vineyard Chardonnay is a rich, mouthfilling wine, with lush pineapple, mango and pear aromas, along with butter and caramel notes.  This wine is well-structured, with a backbone of crisp acid, and a long, lasting finish.\n",
      "\n",
      "Domaine Serene Evenstad Reserve Chardonnay 2015 is from Willamette Valley, Oregon and is a White Wine. The art of blending is a hallmark of the Domaine Serene winemaking program and one of the most important steps in making wines of distinct and unique character. Sourcing only the finest Dijon clone grapes from the winery's premier Chardonnay vineyards in the Dundee Hills, the Evenstad Reserve Chardonnay is meticulously blended for balance, personality and consistently superior quality from vintage to vintage.\n",
      "\n",
      "Barnard Griffin Chardonnay 2012 is from Columbia Valley, Washington and is a White Wine. A burst of ripe fruit flavors greet the palate: infused orange and apple with hints of ginger, honey and wet stone. Rich vanilla aromatics complete this delicious, crisp Chardonnay. A perfect wine for get-togethers with friends. \n",
      "\n"
     ]
    }
   ],
   "source": [
    "def convert_wine_to_string(wine):\n",
    "    description = f'{wine[\"name\"]} is from {wine[\"region\"]} and is a {wine[\"variety\"]}. {wine[\"notes\"]}'\n",
    "    \n",
    "    return description\n",
    "\n",
    "for wine in list(wine_dataset['test'])[:5]:\n",
    "    print(convert_wine_to_string(wine))\n",
    "    print()"
   ]
  },
  {
   "cell_type": "code",
   "execution_count": null,
   "id": "376455a5",
   "metadata": {},
   "outputs": [],
   "source": []
  },
  {
   "cell_type": "code",
   "execution_count": null,
   "id": "f7455ea2",
   "metadata": {},
   "outputs": [],
   "source": []
  },
  {
   "cell_type": "code",
   "execution_count": 28,
   "id": "2efb17bb",
   "metadata": {},
   "outputs": [],
   "source": [
    "import random\n",
    "\n",
    "wines = random.sample(list(wine_dataset['test']), 5)"
   ]
  },
  {
   "cell_type": "code",
   "execution_count": null,
   "id": "ff9d25bf",
   "metadata": {},
   "outputs": [],
   "source": []
  },
  {
   "cell_type": "code",
   "execution_count": 71,
   "id": "fd97f1f2",
   "metadata": {},
   "outputs": [],
   "source": [
    "def pretty_print(data, indent=0):\n",
    "    pp = pprint.PrettyPrinter(indent=indent)\n",
    "    for item in data:\n",
    "        for key, value in item.items():\n",
    "            print(f\"{key}: {value}\")\n",
    "        print()\n",
    "    print()\n"
   ]
  },
  {
   "cell_type": "code",
   "execution_count": 86,
   "id": "65f8cf92",
   "metadata": {},
   "outputs": [],
   "source": [
    "# Define a dictionary for prices\n",
    "prices = {\n",
    "    'gpt-3.5-turbo': {\n",
    "        'input': 0.0015 / 1000,  # per token\n",
    "        'output': 0.002 / 1000  # per token\n",
    "    }\n",
    "}\n",
    "\n",
    "def generate_openai_response(prompt, model='gpt-3.5-turbo', **kwargs):\n",
    "    pretty_print(prompt)\n",
    "    chat_completion = openai.ChatCompletion.create(\n",
    "        model=model,\n",
    "        messages=prompt,\n",
    "        **kwargs\n",
    "    )\n",
    "    # Calculate the cost\n",
    "    input_tokens = chat_completion['usage']['prompt_tokens']\n",
    "    output_tokens = chat_completion['usage']['completion_tokens']\n",
    "    input_cost = input_tokens * prices[model]['input']\n",
    "    output_cost = output_tokens * prices[model]['output']\n",
    "    total_cost = input_cost + output_cost\n",
    "    return chat_completion, {'input_cost': input_cost, 'output_cost': output_cost, 'total_cost': total_cost}"
   ]
  },
  {
   "cell_type": "code",
   "execution_count": 87,
   "id": "4e81bd52",
   "metadata": {},
   "outputs": [],
   "source": [
    "user_description = 'This client hates red wines'"
   ]
  },
  {
   "cell_type": "code",
   "execution_count": 98,
   "id": "1dc3a94c",
   "metadata": {},
   "outputs": [
    {
     "name": "stdout",
     "output_type": "stream",
     "text": [
      "role: system\n",
      "content: You are a wine bot that helps clients understand what kind of wine they want. Given a list of wines and a description of the client. Tell me what wines they want by giving me a numbered list of only the names of the wines. Include a reason preceding each pick to expalin to the user why they might like it.\n",
      "\n",
      "role: user\n",
      "content: User: This client hates red wines\n",
      "Wines:\n",
      "Chateau de Pez 2010 is from St. Estephe, Bordeaux, France and is a Red Wine. Chateau de Pez exhibits a deep color and harmonious composition. This complete, rich, dense wine merits prolonged aging. \n",
      "\n",
      "Carmel Limited Edition (OU Kosher) 2014 is from Israel and is a Red Wine. The wine displays a deep purplish hue and is characterized by a hint of ripe plum, cassis, violets mint and cigar boxes. Full-bodied and rich, with a long and balanced finish. The wine is ready to enjoy, but will continue to mature in the bottle in the coming years. The character of the wine reflects the \"old wine\" style of winemaking which is expressed in the balance between fruit, tannins and acidity. \n",
      "\n",
      "Charles Joguet Chinon Clos de la Dioterie 2014 is from Chinon, Touraine, Loire, France and is a Red Wine. Clos de la Dioterie is the essence of finesse: a harmony of ripe fruit aromas followed by silky spice on the palate; the freshness of a just-ripe blackberry and a trace of vanilla to soften the acidity. A wine that is easy to call pretty, in the most charming sense of the word.\n",
      "\n",
      "Alma Rosa El Jabali Vineyard Chardonnay 2012 is from Sta. Rita Hills, Santa Barbara, Central Coast, California and is a White Wine. The 2012 El Jabali Chardonnay has a brilliant straw color and a pleasant, flowery aroma with hints of vanilla.  Its flavors are complete and mouth filling. This Chardonnay from our vineyard on our home ranch has an excellent soft tannin structure with a bright acid finish.\n",
      "\n",
      "King Estate Croft Vineyard Pinot Noir 1999 is from Willamette Valley, Oregon and is a Red Wine. This brilliant, deep garnet wine displays aromas of plum, raspberry, and chocolate with hints of anise, rose petals, oak, vanilla, and cedar. Displaying bright fruit flavors of raspberry and blueberry that commingle with notes of chocolate and tobacco. The wines velvity tannins & integrated oak provide for a long, smooth finish.\n",
      "\n",
      "\n",
      "Based on the client's dislike for red wines, here is a list of wines that they might enjoy:\n",
      "\n",
      "1. Alma Rosa El Jabali Vineyard Chardonnay 2012: This white wine from Santa Barbara, California would be a great choice for someone who dislikes red wines. It has a pleasant, flowery aroma with hints of vanilla and its flavors are complete and mouth-filling.\n",
      "\n",
      "2. King Estate Croft Vineyard Pinot Noir 1999: Although this wine is a red wine, it might still appeal to someone who dislikes red wines because of its bright fruit flavors of raspberry and blueberry that mingle with notes of chocolate and tobacco. Additionally, its velvety tannins and integrated oak provide for a long, smooth finish.\n",
      "\n",
      "Please note that there are no other white wines available in the list, so these two options are the best choices for someone who specifically dislikes red wines.\n"
     ]
    }
   ],
   "source": [
    "res, price = generate_openai_response(\n",
    "[\n",
    "    {'role': 'system', 'content': 'You are a wine bot that helps clients understand what kind of wine they want. Given a list of wines and a description of the client. Tell me what wines they want by giving me the  only the names of the wines. Include a reason preceding each pick to expalin to the user why they might like it.'}, \n",
    "    {'role': 'user', 'content': f'User: {user_description}\\nWines:\\n{f\"{newline}\".join([convert_wine_to_string(w) for w in wines])}'}\n",
    "])\n",
    "    \n",
    "print(res.choices[0].message.content)\n",
    "\n"
   ]
  },
  {
   "cell_type": "code",
   "execution_count": 100,
   "id": "8506a336",
   "metadata": {},
   "outputs": [
    {
     "data": {
      "text/plain": [
       "{'input_cost': 0.0008265, 'output_cost': 0.000366, 'total_cost': 0.0011925}"
      ]
     },
     "execution_count": 100,
     "metadata": {},
     "output_type": "execute_result"
    }
   ],
   "source": [
    "price"
   ]
  },
  {
   "cell_type": "code",
   "execution_count": 102,
   "id": "bd9dc2a5",
   "metadata": {},
   "outputs": [
    {
     "data": {
      "text/plain": [
       "33542.976939203356"
      ]
     },
     "execution_count": 102,
     "metadata": {},
     "output_type": "execute_result"
    }
   ],
   "source": [
    "40 / 0.0011925  # only 33k calls to hit 40 dollars now compared to hosting something on HuggingFace"
   ]
  },
  {
   "cell_type": "code",
   "execution_count": null,
   "id": "cdad0f5a",
   "metadata": {},
   "outputs": [],
   "source": []
  }
 ],
 "metadata": {
  "kernelspec": {
   "display_name": "Python 3 (ipykernel)",
   "language": "python",
   "name": "python3"
  },
  "language_info": {
   "codemirror_mode": {
    "name": "ipython",
    "version": 3
   },
   "file_extension": ".py",
   "mimetype": "text/x-python",
   "name": "python",
   "nbconvert_exporter": "python",
   "pygments_lexer": "ipython3",
   "version": "3.10.11"
  }
 },
 "nbformat": 4,
 "nbformat_minor": 5
}
