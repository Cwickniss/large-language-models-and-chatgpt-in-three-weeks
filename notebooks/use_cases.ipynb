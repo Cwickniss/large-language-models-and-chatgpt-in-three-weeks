{
 "cells": [
  {
   "cell_type": "code",
   "execution_count": 8,
   "id": "0620e728",
   "metadata": {},
   "outputs": [],
   "source": [
    "import os\n",
    "from openai import OpenAI\n",
    "import pprint\n",
    "\n",
    "openai_client = OpenAI(\n",
    "    api_key=os.getenv(\"OPENAI_API_KEY\"),\n",
    ")"
   ]
  },
  {
   "cell_type": "code",
   "execution_count": 9,
   "id": "1758d0dd",
   "metadata": {},
   "outputs": [
    {
     "name": "stderr",
     "output_type": "stream",
     "text": [
      "Found cached dataset csv (/Users/sinanozdemir/.cache/huggingface/datasets/alfredodeza___csv/alfredodeza--wine-ratings-918c1fc1fd00f07a/0.0.0/eea64c71ca8b46dd3f537ed218fc9bf495d5707789152eb2764f5c78fa66d59d)\n"
     ]
    },
    {
     "data": {
      "application/vnd.jupyter.widget-view+json": {
       "model_id": "f63f7388c345498d8aa29286f8f8f2d5",
       "version_major": 2,
       "version_minor": 0
      },
      "text/plain": [
       "  0%|          | 0/3 [00:00<?, ?it/s]"
      ]
     },
     "metadata": {},
     "output_type": "display_data"
    }
   ],
   "source": [
    "from datasets import load_dataset\n",
    "\n",
    "wine_dataset = load_dataset(\"alfredodeza/wine-ratings\")"
   ]
  },
  {
   "cell_type": "code",
   "execution_count": 10,
   "id": "37760399",
   "metadata": {},
   "outputs": [
    {
     "data": {
      "text/plain": [
       "DatasetDict({\n",
       "    train: Dataset({\n",
       "        features: ['name', 'region', 'variety', 'rating', 'notes'],\n",
       "        num_rows: 32780\n",
       "    })\n",
       "    validation: Dataset({\n",
       "        features: ['name', 'region', 'variety', 'rating', 'notes'],\n",
       "        num_rows: 200\n",
       "    })\n",
       "    test: Dataset({\n",
       "        features: ['name', 'region', 'variety', 'rating', 'notes'],\n",
       "        num_rows: 200\n",
       "    })\n",
       "})"
      ]
     },
     "execution_count": 10,
     "metadata": {},
     "output_type": "execute_result"
    }
   ],
   "source": [
    "wine_dataset"
   ]
  },
  {
   "cell_type": "code",
   "execution_count": 11,
   "id": "a56f0d17",
   "metadata": {},
   "outputs": [
    {
     "name": "stdout",
     "output_type": "stream",
     "text": [
      "Jim Barry Lodge Hill Shiraz 2008 is from Clare Valley, South Australia, Australia and is a Red Wine. This wine has deep, dark red/black hues, lifted aromas of mulberry, raspberry, coffee and kirsch. The bramble, chocolate, methol and rosemary fl avours that fi ll the mouth are present in abundance, with delicate, sensual and ripe tannins playing a structural role. This wine is ideally suited to good food, good friends and good conversation.\n",
      "\n",
      "Argyle Reserve Pinot Noir 2005 is from Willamette Valley, Oregon and is a Red Wine. This Pinot Noir has a seductively rich, super dark ruby-violet color. Aromas leap out of the glass with black cherry, black cherry leather and cedar, along with a ripping portion of cinnamon spice. The wine finishes with a hint of violet flower patch. Use of new oak was delicate, so the aromas are authentic Pinot Noir.  \n",
      "\n",
      "Cambria Katherine's Vineyard Chardonnay 1997 is from Central Coast, California and is a White Wine. The 1997 Katherines Vineyard Chardonnay is a rich, mouthfilling wine, with lush pineapple, mango and pear aromas, along with butter and caramel notes.  This wine is well-structured, with a backbone of crisp acid, and a long, lasting finish.\n",
      "\n",
      "Domaine Serene Evenstad Reserve Chardonnay 2015 is from Willamette Valley, Oregon and is a White Wine. The art of blending is a hallmark of the Domaine Serene winemaking program and one of the most important steps in making wines of distinct and unique character. Sourcing only the finest Dijon clone grapes from the winery's premier Chardonnay vineyards in the Dundee Hills, the Evenstad Reserve Chardonnay is meticulously blended for balance, personality and consistently superior quality from vintage to vintage.\n",
      "\n",
      "Barnard Griffin Chardonnay 2012 is from Columbia Valley, Washington and is a White Wine. A burst of ripe fruit flavors greet the palate: infused orange and apple with hints of ginger, honey and wet stone. Rich vanilla aromatics complete this delicious, crisp Chardonnay. A perfect wine for get-togethers with friends. \n",
      "\n"
     ]
    }
   ],
   "source": [
    "def convert_wine_to_string(wine):\n",
    "    description = f'{wine[\"name\"]} is from {wine[\"region\"]} and is a {wine[\"variety\"]}. {wine[\"notes\"]}'\n",
    "    \n",
    "    return description\n",
    "\n",
    "for wine in list(wine_dataset['test'])[:5]:\n",
    "    print(convert_wine_to_string(wine))\n",
    "    print()"
   ]
  },
  {
   "cell_type": "code",
   "execution_count": null,
   "id": "376455a5",
   "metadata": {},
   "outputs": [],
   "source": []
  },
  {
   "cell_type": "code",
   "execution_count": null,
   "id": "f7455ea2",
   "metadata": {},
   "outputs": [],
   "source": []
  },
  {
   "cell_type": "code",
   "execution_count": 12,
   "id": "2efb17bb",
   "metadata": {},
   "outputs": [],
   "source": [
    "import random\n",
    "\n",
    "wines = random.sample(list(wine_dataset['test']), 5)"
   ]
  },
  {
   "cell_type": "code",
   "execution_count": null,
   "id": "ff9d25bf",
   "metadata": {},
   "outputs": [],
   "source": []
  },
  {
   "cell_type": "code",
   "execution_count": 13,
   "id": "fd97f1f2",
   "metadata": {},
   "outputs": [],
   "source": [
    "def pretty_print(data, indent=0):\n",
    "    pp = pprint.PrettyPrinter(indent=indent)\n",
    "    for item in data:\n",
    "        for key, value in item.items():\n",
    "            print(f\"{key}: {value}\")\n",
    "        print()\n",
    "    print()\n"
   ]
  },
  {
   "cell_type": "code",
   "execution_count": 23,
   "id": "65f8cf92",
   "metadata": {},
   "outputs": [],
   "source": [
    "# Define a dictionary for prices\n",
    "\n",
    "prices = {  # https://openai.com/pricing\n",
    "    'gpt-3.5-turbo': {\n",
    "        'input': 0.001 / 1000,  # per token\n",
    "        'output': 0.002 / 1000  # per token\n",
    "    },\n",
    "    'gpt-4': {\n",
    "        'input': 0.01 / 1000,  # per token\n",
    "        'output': 0.03 / 1000  # per token\n",
    "    }\n",
    "}\n",
    "\n",
    "\n",
    "def generate_openai_response(prompt, model='gpt-4', **kwargs):\n",
    "    pretty_print(prompt)\n",
    "    chat_completion = openai_client.chat.completions.create(\n",
    "        messages=prompt,\n",
    "        model=model,\n",
    "        **kwargs\n",
    "    )\n",
    "\n",
    "    # Calculate the cost\n",
    "    input_tokens = chat_completion.usage.prompt_tokens\n",
    "    output_tokens = chat_completion.usage.completion_tokens\n",
    "    input_cost = input_tokens * prices[model]['input']\n",
    "    output_cost = output_tokens * prices[model]['output']\n",
    "    total_cost = input_cost + output_cost\n",
    "    return chat_completion, {'input_cost': input_cost, 'output_cost': output_cost, 'total_cost': total_cost}"
   ]
  },
  {
   "cell_type": "code",
   "execution_count": 24,
   "id": "4e81bd52",
   "metadata": {},
   "outputs": [],
   "source": [
    "user_description = 'This client hates red wines'"
   ]
  },
  {
   "cell_type": "code",
   "execution_count": 25,
   "id": "1dc3a94c",
   "metadata": {},
   "outputs": [
    {
     "name": "stdout",
     "output_type": "stream",
     "text": [
      "role: system\n",
      "content: You are a wine bot that helps clients understand what kind of wine they want. Given a list of wines and a description of the client. Tell me what wines they want by giving me the only the names of the wines. Include a reason preceding each pick to explain to the user why they might like it.\n",
      "\n",
      "role: user\n",
      "content: User: This client hates red wines\n",
      "Wines:\n",
      "L'Ecole 41 Columbia Valley Merlot 2004 is from Columbia Valley, Washington and is a Red Wine. Rich and spicy, with aromatic aromas of nutmeg, clove and cinnamon, this Merlot shows ripe black plum, blackberry and dark flavors encased in a peppery, chocolate, black cherry finish.\n",
      "---\n",
      "Armanino The Ringneck Pinot Noir 2012 is from Sonoma Coast, Sonoma County, California and is a Red Wine. This wine is distinguished by stunning beauty and a regal nature. Big, powerful & complex makes this wine truly one of a kind. \n",
      "---\n",
      "Jaffurs Viognier 2015 is from Santa Barbara, Central Coast, California and is a White Wine. This Viognier has our classic full mouth feel and a clean, lingering finish. Sourced from the famed Bien Nacido Vineyard, we fermented and aged our 2015 Viognier in a combination of stainless steel and neutral French oak. Vibrant aromas of grapefruit and guava abound on the nose, with subtle notes of anise and honeysuckle. Tropical fruits persist on the palate, mingled with stone fruits and delicate minerality. Pair with fresh seafood: think mahi-mahi with tropical fruit salsa or seared scallops. \n",
      "---\n",
      "Lake Breeze Bernoota Shiraz/Cabernet 2006 is from Barossa Valley, Barossa, South Australia, Australia and is a Red Wine. Lake Breezes Bernoota is a lovely example of a classic Aussie blend. The nose is spicy and lifted on opening with notes of savory cedar touched up with light mint underpinning flowing into red cassis and richer blackberry fruit aromatically. The palate is medium fuller bodied and sleek, with a streak of lively acidity giving brightness to the fruit flavors that mirror the nose. Finer tuned tannins help firm up the long finish with a savory cast that works nicely with the vibrant fruit.  \n",
      "---\n",
      "Joseph Drouhin Vero Pinot Noir 2006 is from Burgundy, France and is a Red Wine. Pretty red color, with bright ruby tones. Very pleasant bouquet reminiscent of cherry and ripe raspberry, with a peppery note in the background. Good balance with pleasant roundness and freshness; supple and refined tannic structure.  \n",
      "\n",
      "\n",
      "Since the client dislikes red wines, they would likely enjoy:\n",
      "\n",
      "\"Jaffurs Viognier 2015\" - A white wine with a full mouth feel and a clean, lingering finish, adorned with vibrant aromas of grapefruit and guava, as well as subtle notes of anise and honeysuckle. This wine's mix of tropical and stone fruits alongside its delicate minerality might make it a pleasing choice for this client.\n"
     ]
    }
   ],
   "source": [
    "newline = '\\n---\\n'\n",
    "res, price = generate_openai_response(\n",
    "[\n",
    "    {'role': 'system', 'content': 'You are a wine bot that helps clients understand what kind of wine they want. Given a list of wines and a description of the client. Tell me what wines they want by giving me the only the names of the wines. Include a reason preceding each pick to explain to the user why they might like it.'}, \n",
    "    {'role': 'user', 'content': f'User: {user_description}\\nWines:\\n{f\"{newline}\".join([convert_wine_to_string(w) for w in wines])}'}\n",
    "])\n",
    "    \n",
    "print(res.choices[0].message.content)"
   ]
  },
  {
   "cell_type": "code",
   "execution_count": 26,
   "id": "8506a336",
   "metadata": {},
   "outputs": [
    {
     "data": {
      "text/plain": [
       "{'input_cost': 0.005580000000000001,\n",
       " 'output_cost': 0.00264,\n",
       " 'total_cost': 0.008220000000000002}"
      ]
     },
     "execution_count": 26,
     "metadata": {},
     "output_type": "execute_result"
    }
   ],
   "source": [
    "price"
   ]
  },
  {
   "cell_type": "code",
   "execution_count": 27,
   "id": "bd9dc2a5",
   "metadata": {},
   "outputs": [
    {
     "data": {
      "text/plain": [
       "5474.452554744525"
      ]
     },
     "execution_count": 27,
     "metadata": {},
     "output_type": "execute_result"
    }
   ],
   "source": [
    "45 / price['total_cost']  # only about 5.5k calls to hit 45 dollars now compared to hosting something on HuggingFace"
   ]
  },
  {
   "cell_type": "code",
   "execution_count": 29,
   "id": "cdad0f5a",
   "metadata": {},
   "outputs": [
    {
     "name": "stdout",
     "output_type": "stream",
     "text": [
      "role: system\n",
      "content: You are a wine bot that helps clients understand what kind of wine they want. Given a list of wines and a description of the client. Tell me what wines they want by giving me the only the names of the wines. Include a reason preceding each pick to explain to the user why they might like it.\n",
      "\n",
      "role: user\n",
      "content: User: This client hates red wines\n",
      "Wines:\n",
      "L'Ecole 41 Columbia Valley Merlot 2004 is from Columbia Valley, Washington and is a Red Wine. Rich and spicy, with aromatic aromas of nutmeg, clove and cinnamon, this Merlot shows ripe black plum, blackberry and dark flavors encased in a peppery, chocolate, black cherry finish.\n",
      "---\n",
      "Armanino The Ringneck Pinot Noir 2012 is from Sonoma Coast, Sonoma County, California and is a Red Wine. This wine is distinguished by stunning beauty and a regal nature. Big, powerful & complex makes this wine truly one of a kind. \n",
      "---\n",
      "Jaffurs Viognier 2015 is from Santa Barbara, Central Coast, California and is a White Wine. This Viognier has our classic full mouth feel and a clean, lingering finish. Sourced from the famed Bien Nacido Vineyard, we fermented and aged our 2015 Viognier in a combination of stainless steel and neutral French oak. Vibrant aromas of grapefruit and guava abound on the nose, with subtle notes of anise and honeysuckle. Tropical fruits persist on the palate, mingled with stone fruits and delicate minerality. Pair with fresh seafood: think mahi-mahi with tropical fruit salsa or seared scallops. \n",
      "---\n",
      "Lake Breeze Bernoota Shiraz/Cabernet 2006 is from Barossa Valley, Barossa, South Australia, Australia and is a Red Wine. Lake Breezes Bernoota is a lovely example of a classic Aussie blend. The nose is spicy and lifted on opening with notes of savory cedar touched up with light mint underpinning flowing into red cassis and richer blackberry fruit aromatically. The palate is medium fuller bodied and sleek, with a streak of lively acidity giving brightness to the fruit flavors that mirror the nose. Finer tuned tannins help firm up the long finish with a savory cast that works nicely with the vibrant fruit.  \n",
      "---\n",
      "Joseph Drouhin Vero Pinot Noir 2006 is from Burgundy, France and is a Red Wine. Pretty red color, with bright ruby tones. Very pleasant bouquet reminiscent of cherry and ripe raspberry, with a peppery note in the background. Good balance with pleasant roundness and freshness; supple and refined tannic structure.  \n",
      "\n",
      "\n"
     ]
    },
    {
     "data": {
      "text/plain": [
       "54611.65048543689"
      ]
     },
     "execution_count": 29,
     "metadata": {},
     "output_type": "execute_result"
    }
   ],
   "source": [
    "res, price = generate_openai_response(\n",
    "[\n",
    "    {'role': 'system', 'content': 'You are a wine bot that helps clients understand what kind of wine they want. Given a list of wines and a description of the client. Tell me what wines they want by giving me the only the names of the wines. Include a reason preceding each pick to explain to the user why they might like it.'}, \n",
    "    {'role': 'user', 'content': f'User: {user_description}\\nWines:\\n{f\"{newline}\".join([convert_wine_to_string(w) for w in wines])}'}\n",
    "],\n",
    "model='gpt-3.5-turbo'\n",
    ")\n",
    "\n",
    "45 / price['total_cost']  # you get about 50k calls with gpt 3.5"
   ]
  },
  {
   "cell_type": "code",
   "execution_count": null,
   "id": "35a2eee2-7bc9-4d00-99ff-695a440a6039",
   "metadata": {},
   "outputs": [],
   "source": []
  }
 ],
 "metadata": {
  "kernelspec": {
   "display_name": "Python 3 (ipykernel)",
   "language": "python",
   "name": "python3"
  },
  "language_info": {
   "codemirror_mode": {
    "name": "ipython",
    "version": 3
   },
   "file_extension": ".py",
   "mimetype": "text/x-python",
   "name": "python",
   "nbconvert_exporter": "python",
   "pygments_lexer": "ipython3",
   "version": "3.11.5"
  }
 },
 "nbformat": 4,
 "nbformat_minor": 5
}
